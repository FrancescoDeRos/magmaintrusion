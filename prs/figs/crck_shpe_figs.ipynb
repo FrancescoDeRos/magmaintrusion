{
 "cells": [
  {
   "cell_type": "markdown",
   "id": "6721c05e-2453-4df5-883a-34dd30ba5dda",
   "metadata": {},
   "source": [
    "# packages used"
   ]
  },
  {
   "cell_type": "code",
   "execution_count": null,
   "id": "5ebc70e3-db90-4fdf-9b52-05cddd16a974",
   "metadata": {},
   "outputs": [],
   "source": [
    "import os\n",
    "import re\n",
    "import glob\n",
    "import numpy as np\n",
    "import pandas as pd\n",
    "import matplotlib.pyplot as plt\n",
    "import matplotlib.ticker as ticker\n",
    "import matplotlib.cm as cm\n",
    "import matplotlib.colors as mcolors\n",
    "from matplotlib.cm import get_cmap\n",
    "from io import StringIO\n",
    "from pathlib import Path\n",
    "%config InlineBackend.figure_format='retina'\n",
    "plt.rcParams.update({'font.size': 18})\n",
    "plt.rcParams['text.usetex'] = True #tex rendering\n",
    "pathf=\"/.../\"#replace ... with path of binary output(see output_file_description.dat for more info)\n",
    "pathi = \"./fgs/1lay/case3.6/\"#-----------------salvatagiioooo\n",
    "plt.savefig(pathi+f'1l_crck_ovrly_case3.6.pdf',dpi=300)"
   ]
  },
  {
   "cell_type": "markdown",
   "id": "e5616d55-e1d0-4dd9-8225-f1e0991f6cd3",
   "metadata": {},
   "source": [
    "# bibliography - info"
   ]
  },
  {
   "cell_type": "markdown",
   "id": "ef600579-628f-4c32-b7c3-b1333716e4fb",
   "metadata": {},
   "source": [
    "Author: Francesco De Rose - Cosenza (CS), 03/08/2025. This notebook has been used to make the figures shown in the \"Path of Excellence\" presentation titled: \"Magma intrusion in the crust: implications to the crustal dynamics\" with supervisors Prof. Mario La Rocca[1], Prof.ssa Eleonora Rivalta[2], Dott. Francesco Maccaferri[3].\n",
    "[1]University of Calabria, Physics department, Rende (CS);\n",
    "[3]Istituto Nazionale di Geofisica e Vulcanologia, Sezione di Napoli - Osservatorio Vesuviano, Napoli, Italy;\n",
    "[2]Department of Physics, Section of Geophysics, University of Bologna, V.le B. Pichat 8, Bologna. \n",
    "\n",
    "The code version used has been the one reachable from [this link](https://zenodo.org/records/7118734), the articles which have been consulted in order to make the runs have been: \n",
    "1. \"Modeling the shape and velocity of magmatic intrusions, a new numerical approach\", Furst, Maccaferri, Pinel, 2023 https://doi.org/10.1029/2022JB025697\n",
    "2. \"Buoyancy-Driven Magma Fracture' A Mechanism for Ascent Through the Lithosphere and the Emplacement of Diamonds, Spence&Turcotte 1990 https://doi.org/10.1029/JB095iB04p05133\n",
    "3. \"Rivalta_etal - magma_ascent encyclopedia_volcanoes\" \n",
    "4. \"A review of mechanical models of dike propagation: Schools of thought, results and future directions\", E. Rivalta , B. Taisne , A.P. Bunger , R.F. Katz, 2015 https://doi.org/10.1016/j.tecto.2014.10.003\n",
    "5. \"A quantitative study of the mechanisms governing dike propagation, dike arrest and sill formation\", F. Maccaferri , M. Bonafede , E. Rivalta, 2011 https://doi.org/10.1016/j.jvolgeores.2011.09.001\n",
    "6. \"Modeling Dike Propagation in Both Vertical Length and Horizontal Breadth\", Stephen Pansino, Adel Emadzadeh, and Benoit Taisne, 2022 https://doi.org/10.1029/2022JB024593\n",
    "7. \"Dynamics of magmatic intrusion: what can we learn from the comparison of analog and numerical models?\", Séverine Furst, Virginie Pinel and Francesco Maccaferri, 2024 https://doi:10.30909/vol.07.01.6787\n",
    "8. \"Jaeger - Fundamentals of rock mechanics (2007) \" https://www.researchgate.net/publication/220010592_Fundamental_of_Rock_Mechanics"
   ]
  },
  {
   "cell_type": "markdown",
   "id": "0cde1f0c-0b11-4853-acea-29be2381a201",
   "metadata": {},
   "source": [
    "# Single layer"
   ]
  },
  {
   "cell_type": "markdown",
   "id": "fcfb6995-10d9-4809-8e1a-86de310e137a",
   "metadata": {},
   "source": [
    "## crack shapes evlt"
   ]
  },
  {
   "cell_type": "code",
   "execution_count": null,
   "id": "ce1a0fb5-fdd0-4fa3-9681-a7992e123bca",
   "metadata": {},
   "outputs": [],
   "source": [
    "def plot_crack_shapes_subplots(path=\".\", base_filename=\"crack_shape_r01_i\", iterations=None, scale=1.0, vert_exag=5):\n",
    "    \"\"\"\n",
    "    Plots multiple crack shape files in subplots as filled polygons (drop shapes), with fill color \n",
    "    mapped to a colorbar based on file index.\n",
    "    Parameters:\n",
    "        path (str): Directory containing the .dat files\n",
    "        base_filename (str): Base name before the index (default: 'crack_shape_r01_i')\n",
    "        indices (list): List of iteration indices to plot (default: [9, ..., 100])\n",
    "        scale (float): Scale factor for exaggerating x, z\n",
    "        vert_exag (float): Vertical exaggeration factor to stretch z-axis\n",
    "    \"\"\"\n",
    "    if iterations is None:\n",
    "        iterations = [9, 19, 29, 39, 49, 59, 69, 79, 89, 99]\n",
    "    ncols = 5\n",
    "    nrows = 2\n",
    "    cmap = cm.afmhot\n",
    "    norm = mcolors.Normalize(vmin=min(iterations), vmax=max(iterations))\n",
    "    fig, axs = plt.subplots(nrows=nrows, ncols=ncols, figsize=(20, 8), constrained_layout=True)\n",
    "    axs = axs.flatten()\n",
    "    for i, iter_num in enumerate(iterations):\n",
    "        filename = os.path.join(path, f\"{base_filename}{iter_num:05d}.dat\")\n",
    "        ax = axs[i]\n",
    "        try:\n",
    "            data = np.loadtxt(filename)\n",
    "            x = data[:, 0] * scale\n",
    "            z = data[:, 1] * scale * vert_exag\n",
    "            color = cmap(norm(iter_num))\n",
    "            ax.fill(x, z, color=color, alpha=0.6, label=f'{iter_num:05d}')\n",
    "            ax.plot(x, z, c='gray',ls='-', linewidth=2)\n",
    "            ax.plot([x[-1], x[0]], [z[-1], z[0]], 'k-', linewidth=2)\n",
    "            ax.plot(x, z, 'ko', markersize=3)\n",
    "            ax.set_title(f\"{os.path.basename(filename)}\", fontsize=9)\n",
    "            ax.invert_yaxis()\n",
    "            ax.set_aspect('auto')\n",
    "            ax.grid(True,linestyle='dotted')\n",
    "            ax.set_xlabel(\"x [km]\",weight='bold')\n",
    "            ax.set_ylabel(\"z [km] (exag.)\",weight='bold')\n",
    "        except FileNotFoundError:\n",
    "            ax.set_title(f\"File not found:\\n{filename}\", color='red')\n",
    "            ax.axis('off')\n",
    "    for j in range(i+1, len(axs)):\n",
    "        axs[j].axis('off')\n",
    "    sm = cm.ScalarMappable(cmap=cmap, norm=norm)\n",
    "    sm.set_array([])\n",
    "    cbar = fig.colorbar(sm, ax=axs, orientation='vertical', fraction=0.05, pad=0.001)\n",
    "    cbar.set_label(\"Iteration index\")\n",
    "    plt.suptitle(f\"Crack shape evolution (vertical exaggeration: {vert_exag}, scale: {scale})\", fontsize=21,weight='bold')"
   ]
  },
  {
   "cell_type": "code",
   "execution_count": null,
   "id": "a1b826ae-bf89-47c3-9601-815817833c21",
   "metadata": {},
   "outputs": [],
   "source": [
    "plot_crack_shapes_subplots(path=pathf+\"1lay-case3.6/output/\", base_filename=\"crack_shape_r01_i\", \n",
    "iterations=None, scale=2.5, vert_exag=2.0)#-----modifica caso single layer scl_factor=1\n",
    "pathi = \"./fgs/1lay/case3.6/\"#-----------------salvatagiioooo\n",
    "plt.savefig(pathi+f'1l_crck_shp_case3.6.pdf',dpi=300)"
   ]
  },
  {
   "cell_type": "code",
   "execution_count": null,
   "id": "0faf1a7d-2c2f-4b8a-ad62-f109e5f68e2b",
   "metadata": {},
   "outputs": [],
   "source": [
    "def plot_crack_shapes_overlay(path=\".\", base_filename=\"crack_shape_r01_i\", iterations=None, scale=1.0, vert_exag=5):\n",
    "    \"\"\"\n",
    "    Overlays multiple crack shapes in a single plot using filled polygons.\n",
    "    Parameters:\n",
    "        path (str): Directory containing the .dat files\n",
    "        base_filename (str): Base name before the index (e.g., 'crack_shape_r01_i')\n",
    "        iterations (list): List of iteration indices to plot\n",
    "        scale (float): Horizontal scaling\n",
    "        vert_exag (float): Vertical exaggeration factor\n",
    "    \"\"\"\n",
    "    if iterations is None:\n",
    "        iterations = [9, 19, 29, 39, 49, 59, 69, 79, 89, 99]#modificare in base ai file delle run\n",
    "    cmap = cm.afmhot#colorbar guarda galleria\n",
    "    norm = mcolors.Normalize(vmin=min(iterations), vmax=max(iterations))\n",
    "    fig = plt.figure(figsize=(12, 8))\n",
    "    for iter_num in iterations:\n",
    "        filename = os.path.join(path, f\"{base_filename}{iter_num:05d}.dat\")\n",
    "        try:\n",
    "            data = np.loadtxt(filename)\n",
    "            x = data[:, 0] * scale\n",
    "            z = data[:, 1] * scale * vert_exag\n",
    "            color = cmap(norm(iter_num))\n",
    "            plt.fill(x, z, color=color, alpha=0.4, label=f'Iter {iter_num}')\n",
    "            plt.plot(x, z, 'k-', linewidth=1)\n",
    "        except FileNotFoundError:\n",
    "            print(f\"File not found: {filename}\")\n",
    "            continue\n",
    "    ax = plt.gca()\n",
    "    ax.invert_yaxis()\n",
    "    ax.set_aspect('auto')\n",
    "    ax.set_xlabel(\"x [km]\", weight='bold')\n",
    "    ax.set_ylabel(\"z [km] (exag.)\", weight='bold')\n",
    "    ax.set_title(\"Crack shapes evolution\", fontsize=21, weight='bold')\n",
    "    sm = cm.ScalarMappable(cmap=cmap, norm=norm)\n",
    "    sm.set_array([])\n",
    "    cbar = fig.colorbar(sm, ax=ax, orientation='vertical', fraction=0.05, pad=0.01)    \n",
    "    cbar.set_label(\"Iteration index\")\n",
    "    plt.tight_layout()"
   ]
  },
  {
   "cell_type": "code",
   "execution_count": null,
   "id": "9681f1ed-9e5f-42f2-9104-8217ba171d56",
   "metadata": {},
   "outputs": [],
   "source": [
    "plot_crack_shapes_overlay(path=pathf+\"1lay-case3./output/\", base_filename=\"crack_shape_r01_i\",\n",
    "iterations=None, scale=2.5, vert_exag=1.0)#-----modifica caso\n",
    "pathi = \"./fgs/1lay/case3.6/\"#-----------------salvatagiioooo\n",
    "plt.savefig(pathi+f'1l_crck_ovrly_case3.6.pdf',dpi=300)"
   ]
  },
  {
   "cell_type": "markdown",
   "id": "e6ac628c-fab7-456f-b147-ab3527f6a4aa",
   "metadata": {},
   "source": [
    "## overpressure visc evolt"
   ]
  },
  {
   "cell_type": "code",
   "execution_count": null,
   "id": "21939c18-7854-4305-9146-6f2adfca8098",
   "metadata": {},
   "outputs": [],
   "source": [
    "def plot_overpressure_single_plot(path=\".\", base_prefix=\"Overpressure_\", iterations=None, dyke_num=1):\n",
    "    \"\"\"\n",
    "    Plots overpressure and viscous pressure drop from multiple Overpressure_XXX_XX.dat files in a single plot.\n",
    "    Parameters:\n",
    "        path (str): Directory containing the .dat files\n",
    "        base_prefix (str): Base filename before iteration and dyke number (default: 'Overpressure_')\n",
    "        iterations (list): List of iteration numbers (e.g., [1, 2, 3])\n",
    "        dyke_num (int): Dyke number XX\n",
    "    \"\"\"\n",
    "    if iterations is None:\n",
    "        iterations = list(range(1, 11))  # 1 to 10\n",
    "    fig, ax = plt.subplots(figsize=(10, 6))\n",
    "    cmap = plt.get_cmap('PuOr', len(iterations))\n",
    "    for i, iter_num in enumerate(iterations):\n",
    "        filename = os.path.join(path, f\"{base_prefix}{iter_num:03d}_{dyke_num:02d}.dat\")\n",
    "        try:\n",
    "            data = np.loadtxt(filename)\n",
    "            element = data[:, 0]\n",
    "            overp = data[:, 1]\n",
    "            dpvisc = data[:, 2]\n",
    "            color = cmap(i)\n",
    "            label_base = f\"Iter {iter_num}\"\n",
    "            ax.plot(element, overp, '-', color=color, label=f'{label_base} - Overp.')\n",
    "            ax.plot(element, dpvisc, '--', color=color, label=f'{label_base} - Visc.')\n",
    "\n",
    "        except FileNotFoundError:\n",
    "            print(f\"[WARNING] File not found: {filename}\")\n",
    "            continue\n",
    "    ax.set_title(\"Overpressure and viscous pressure drop\", fontsize=21, weight='bold')\n",
    "    ax.set_xlabel(\"Element index\", weight='bold')\n",
    "    ax.set_ylabel(\"Pressure [MPa]\", weight='bold')\n",
    "    norm = mcolors.Normalize(vmin=min(iterations), vmax=max(iterations))\n",
    "    sm = cm.ScalarMappable(cmap=cmap, norm=norm)\n",
    "    sm.set_array([])\n",
    "    cbar = fig.colorbar(sm, ax=ax, orientation='vertical', fraction=0.05, pad=0.01)    \n",
    "    cbar.set_label(\"Iteration index\")\n",
    "    ax.grid(True,linestyle='dotted')\n",
    "    from matplotlib.lines import Line2D\n",
    "    custom_lines = [Line2D([0], [0], color='black', linestyle='-', label='Overpressure'),\n",
    "        Line2D([0], [0], color='black', linestyle='--', label='Viscous pressure drop')]\n",
    "    ax.legend(handles=custom_lines, fontsize='large', ncol=1, loc='best')\n",
    "    plt.tight_layout()"
   ]
  },
  {
   "cell_type": "code",
   "execution_count": null,
   "id": "08c4d207-4855-40d9-a158-d2fd467aeeef",
   "metadata": {},
   "outputs": [],
   "source": [
    "plot_overpressure_single_plot(pathf+\"1lay-case4/output/\",\n",
    "base_prefix=\"Overpressure_\", iterations=range(1,100,10), dyke_num=1)#-----modifica caso\n",
    "pathi = \"./fgs/1lay/case5/\"#-----------------salvatagiioooo\n",
    "plt.savefig(pathi+f'ovep_vscp_case5.pdf',dpi=300)"
   ]
  },
  {
   "cell_type": "markdown",
   "id": "3e78747e-dde1-4721-9134-a32e39db2007",
   "metadata": {},
   "source": [
    "## dyke opens evolt"
   ]
  },
  {
   "cell_type": "code",
   "execution_count": null,
   "id": "e9cc1a79-7fce-4a96-b973-c15ef5eae597",
   "metadata": {},
   "outputs": [],
   "source": [
    "def plot_opening_all_in_one(path=\".\", base_prefix=\"Ut_\", iterations=None, title=None, dyke_num=1):\n",
    "    \"\"\"\n",
    "    Plots all dislocation openings Ut from multiple iterations in a single figure.\n",
    "    Parameters:\n",
    "        path (str): Directory containing the .dat files.\n",
    "        base_prefix (str): Prefix before iteration and dyke number (default: 'Ut_').\n",
    "        iterations (list): List of iteration numbers (default: 1 to 10).\n",
    "        dyke_num (int): Dyke number (default: 1).\n",
    "    \"\"\"         \n",
    "    if iterations is None:\n",
    "        iterations = list(range(1, 11))\n",
    "    fig, ax = plt.subplots(figsize=(10, 6))\n",
    "    cmap = plt.get_cmap('berlin', len(iterations))\n",
    "    for i, iter_num in enumerate(iterations):\n",
    "        filename = os.path.join(path, f\"{base_prefix}{iter_num:03d}_{dyke_num:02d}.dat\")\n",
    "        try:\n",
    "            data = np.loadtxt(filename)\n",
    "            element = data[:, 0]\n",
    "            ut = data[:, 1]\n",
    "            color=cmap(i)\n",
    "            ax.plot(element, ut, color=color, label=f'Iter {iter_num:03d}')\n",
    "        except FileNotFoundError:\n",
    "            print(f\"Warning: file not found: {filename}\")\n",
    "            continue\n",
    "        except Exception as e:\n",
    "            print(f\"Error reading {filename}: {e}\")\n",
    "            continue\n",
    "    ax.set_xlabel(\"Element index\",weight='bold')\n",
    "    ax.set_ylabel(\"Opening [m]\",weight='bold')\n",
    "    ax.set_title(title or f'Dyke opening evolution: {os.path.basename(file_path)}', weight='bold')\n",
    "    ax.grid(True,linestyle='dotted')\n",
    "    norm = mcolors.Normalize(vmin=min(iterations), vmax=max(iterations))\n",
    "    sm = cm.ScalarMappable(cmap=cmap, norm=norm)\n",
    "    sm.set_array([])\n",
    "    cbar = fig.colorbar(sm, ax=ax, orientation='vertical', fraction=0.05, pad=0.01)    \n",
    "    cbar.set_label(\"Iteration index\")\n",
    "    plt.tight_layout()"
   ]
  },
  {
   "cell_type": "code",
   "execution_count": null,
   "id": "34cde24b-bc1c-40b2-a2b6-43fa6b21e7ee",
   "metadata": {},
   "outputs": [],
   "source": [
    "plot_opening_all_in_one(pathf+\"1lay-test/output/\",\n",
    "iterations=range(1, 100,5), dyke_num=1, title=\"1-layer dyke opening evolution – SIM A8\");#-----modifica caso\n",
    "pathi = \"./fgs/1lay/case8/\"#-----------------salvatagiioooo\n",
    "plt.savefig(pathi+f'1l_open_case8.pdf',dpi=300)"
   ]
  },
  {
   "cell_type": "markdown",
   "id": "28935212-bab6-4eeb-be79-ae84ff074474",
   "metadata": {},
   "source": [
    "## tip veloc - max opening"
   ]
  },
  {
   "cell_type": "code",
   "execution_count": null,
   "id": "5d1fe5e4-eb48-4b9d-95cb-52955cde2902",
   "metadata": {},
   "outputs": [],
   "source": [
    "def plot_tip_velocity_maxopening(path=\".\", dyke_num=1, filename_prefix=\"XtZtvel_\"):\n",
    "    \"\"\"\n",
    "    Plots crack tip position, velocity, and maximum opening over iterations from XtZtvel_XX.dat.\n",
    "    Parameters:\n",
    "        path (str): Directory containing the file\n",
    "        dyke_num (int): Dyke number XX\n",
    "        filename_prefix (str): File prefix (default: 'XtZtvel_')\n",
    "    \"\"\"\n",
    "    filename = os.path.join(path, f\"{filename_prefix}{dyke_num:02d}.dat\")\n",
    "    try:\n",
    "        try:\n",
    "            data = np.loadtxt(filename, comments=\"#\", skiprows=1)\n",
    "        except ValueError:\n",
    "            with open(filename) as f:\n",
    "                lines = [line for line in f if len(line.strip().split()) == 4]\n",
    "            data = np.array([[float(x) for x in line.strip().split()] for line in lines])\n",
    "        x = data[:, 0]\n",
    "        z = data[:, 1]\n",
    "        v = data[:, 2]\n",
    "        max_ut = data[:, 3]\n",
    "        iterations = np.arange(1, len(x) + 1)\n",
    "        fig, axs = plt.subplots(3, 1, figsize=(10, 10), constrained_layout=True)\n",
    "        axs[0].plot(iterations, x, 'b-', label='Tip x')\n",
    "        axs[0].plot(iterations, z, 'g-', label='Tip z')\n",
    "        axs[0].set_ylabel(\"Position [km]\",weight='bold')\n",
    "        axs[0].set_title(\"Crack tip position\")\n",
    "        axs[0].legend()\n",
    "        axs[0].grid(True,linestyle='dotted')\n",
    "        axs[1].plot(iterations, v, 'r-', label='Velocity')\n",
    "        axs[1].set_ylabel(\"Velocity [m/s]\",weight='bold')\n",
    "        axs[1].set_title(\"Crack propagation velocity\")\n",
    "        axs[1].grid(True,linestyle='dotted')\n",
    "        axs[2].plot(iterations, max_ut, 'k-', label='max(Ut)')\n",
    "        axs[2].set_xlabel(\"Iteration\",weight='bold')\n",
    "        axs[2].set_ylabel(\"Max opening [m]\",weight='bold')\n",
    "        axs[2].set_title(\"Maximum opening\")\n",
    "        axs[2].grid(True,linestyle='dotted')\n",
    "        plt.suptitle(f\"Crack evolution – Dyke {dyke_num:02d}\", fontsize=16)\n",
    "        plt.show()\n",
    "    except FileNotFoundError:\n",
    "        print(f\"File not found: {filename}\")"
   ]
  },
  {
   "cell_type": "code",
   "execution_count": null,
   "id": "ef2fd515-3af4-43dc-83ef-79e9408fc3b7",
   "metadata": {},
   "outputs": [],
   "source": [
    "plot_tip_velocity_maxopening(pathf+\"1lay-case2/output/\", dyke_num=1)\n",
    "pathi = \"./fgs/1lay/case1/\"\n",
    "plt.savefig(pathi+f'crck_shape_case7.pdf',dpi=300)"
   ]
  },
  {
   "cell_type": "markdown",
   "id": "01ce969a-60d8-4b7c-a72e-b3174e54b118",
   "metadata": {},
   "source": [
    "## crack tip coordinates"
   ]
  },
  {
   "cell_type": "code",
   "execution_count": null,
   "id": "170a7551-6c6c-45e2-995b-53c60f45009d",
   "metadata": {},
   "outputs": [],
   "source": [
    "def load_fortran_float_file(filename):\n",
    "    with open(filename, 'r') as f:\n",
    "        lines = f.readlines()\n",
    "    lines = [line.replace('D', 'E').replace('d', 'E') for line in lines]\n",
    "    from io import StringIO\n",
    "    return np.loadtxt(StringIO(''.join(lines)))\n",
    "def plot_delta_parameters(path=\".\", dyke_num=1, filename_prefix=\"XtZtDELTA_\"):\n",
    "    \"\"\"\n",
    "    Plots crack tip parameters and DELTA values from XtZtDELTA_XX.dat.\n",
    "    Parameters:\n",
    "        path (str): Directory containing the file\n",
    "        dyke_num (int): Dyke number XX\n",
    "        filename_prefix (str): File prefix (default: 'XtZtDELTA_')\n",
    "    \"\"\"\n",
    "    filename = os.path.join(path, f\"{filename_prefix}{dyke_num:02d}.dat\")\n",
    "    try:\n",
    "        data = load_fortran_float_file(filename)\n",
    "        iterations = np.arange(1, data.shape[0] + 1)\n",
    "        x, z = data[:, 0], data[:, 1]\n",
    "        overp = data[:, 2]\n",
    "        l_norm = data[:, 3]\n",
    "        sig_av, sig_n, sig_max = data[:, 4], data[:, 5], data[:, 6]\n",
    "        delta1, delta2, delta3 = data[:, 7], data[:, 8], data[:, 9]\n",
    "        fig, axs = plt.subplots(4, 1, figsize=(12, 14), constrained_layout=True)\n",
    "        axs[0].plot(iterations, x, label='x_tip', color='b')\n",
    "        axs[0].plot(iterations, z, label='z_tip', color='g')\n",
    "        axs[0].set_title(\"Crack tip coordinates\")\n",
    "        axs[0].set_ylabel(\"Position [km]\",weight='bold')\n",
    "        axs[0].legend()\n",
    "        axs[0].grid(True,linestyle='dotted')\n",
    "        axs[1].plot(iterations, overp, label='OverP_av', color='r')\n",
    "        axs[1].plot(iterations, l_norm, label='L_norm', color='k')\n",
    "        axs[1].set_title(\"Overpressure and normaliz. dyke length\")\n",
    "        axs[1].set_ylabel(\"Value\")\n",
    "        axs[1].legend()\n",
    "        axs[1].grid(True,linestyle='dotted')\n",
    "        axs[2].plot(iterations, sig_av, label=r'$\\bar{\\sigma_{xz}}$', color='orange')\n",
    "        axs[2].plot(iterations, sig_n, label=r'${\\sigma_{xz}}_n$', color='purple')\n",
    "        axs[2].plot(iterations, sig_max, label=r'${\\sigma_{xz}}^{max}$', color='gray')\n",
    "        axs[2].set_title(\"Shear stress components\")\n",
    "        axs[2].set_ylabel(\"Stress [Pa]\",weight='bold')\n",
    "        axs[2].legend()\n",
    "        axs[2].grid(True)\n",
    "        axs[3].plot(iterations, delta1, label='DELTA1', color='darkred')\n",
    "        axs[3].plot(iterations, delta2, label='DELTA2', color='darkgreen')\n",
    "        axs[3].plot(iterations, delta3, label='DELTA3', color='darkblue')\n",
    "        axs[3].set_title(\"DELTA values\")\n",
    "        axs[3].set_xlabel(\"Iteration\",weight='bold')\n",
    "        axs[3].set_ylabel(\"Dimensionless\",weight='bold')\n",
    "        axs[3].legend()\n",
    "        axs[3].grid(True,linestyle='dotted')\n",
    "        plt.suptitle(f\"Crack evolution and DELTA values. Dyke {dyke_num:02d} - case 1\", fontsize=16,weight='bold')\n",
    "        plt.show()\n",
    "    except FileNotFoundError:\n",
    "        print(f\"File not found: {filename}\")\n",
    "    except ValueError as e:\n",
    "        print(f\"Error reading file {filename}: {e}\")"
   ]
  },
  {
   "cell_type": "code",
   "execution_count": null,
   "id": "43fc9604-f9dd-475e-b24c-23c995f61a40",
   "metadata": {},
   "outputs": [],
   "source": [
    "plot_delta_parameters(pathf+\"1lay-case6/output/\", dyke_num=1)\n",
    "pathi = \"./fgs/1lay/case1/\"\n",
    "plt.savefig(pathi+f'crck_shape_case7.pdf',dpi=150)"
   ]
  },
  {
   "cell_type": "markdown",
   "id": "8c35d5a7-5b57-4fd4-8fe9-999cc3844e25",
   "metadata": {},
   "source": [
    "## velocity vs dimensionless specncerturcotte1990"
   ]
  },
  {
   "cell_type": "code",
   "execution_count": null,
   "id": "70858677-198f-4e8e-be24-5410621eaf75",
   "metadata": {},
   "outputs": [],
   "source": [
    "def compute_theoretical_velocity(times, A0, delta_rho, g, eta):\n",
    "    times_safe = np.where(times == 0, 1e-10, times)\n",
    "    v_th = ((A0**2 * delta_rho * g) / (48 * eta * times_safe**2))**(1/3)\n",
    "    return v_th\n",
    "def load_cleaned_xtztvel_file(filename):\n",
    "    from io import StringIO\n",
    "    with open(filename, 'r') as f:\n",
    "        lines = f.readlines()\n",
    "    cleaned_lines = []\n",
    "    for line in lines:\n",
    "        clean_line = line.replace('D', 'E').replace('d', 'E').strip()  \n",
    "        parts = clean_line.split()\n",
    "        if len(parts) < 4:\n",
    "            continue\n",
    "        try:\n",
    "            floats = list(map(float, parts[:4]))\n",
    "            cleaned_lines.append(' '.join(parts[:4]))\n",
    "        except ValueError:\n",
    "            continue  \n",
    "    if not cleaned_lines:\n",
    "        raise ValueError(\"No valid data lines found.\")\n",
    "    return np.loadtxt(StringIO('\\n'.join(cleaned_lines)))\n",
    "def plot_xtzt_velocity(file_path, A0=1.0, g=9.81, delta_rho=300, eta=100, title=None):\n",
    "    try:\n",
    "        data = load_cleaned_xtztvel_file(file_path)\n",
    "        x, z = data[:, 0], data[:, 1]\n",
    "        v = data[:, 2]\n",
    "        max_opening = data[:, 3]\n",
    "        iterations = np.arange(1, len(v) + 1)\n",
    "        L = np.max(z) - np.min(z)\n",
    "        t = iterations  \n",
    "        tstar = (A0**2 * g * delta_rho * t) / (np.pi**2 * (L / 2)**3 * eta) * 1000\n",
    "        v_theoretical = compute_theoretical_velocity(t, A0, delta_rho, g, eta)\n",
    "        fig, ax1 = plt.subplots(figsize=(10, 5)) \n",
    "        ax1.plot(tstar, v, label='Crack tip velocity [mm/s]', marker='o', ms=2.5,color=\"#2313CF\")\n",
    "        ax1.plot(tstar, max_opening, label='Max crack opening [m]',ms=2.8,marker='s', color=\"#E39C27\")\n",
    "        ax1.plot(tstar, v_theoretical, linestyle='--', color='red', label='v_th (SpencerTurcotte1990)')\n",
    "        ax1.set_xlabel('Dimensionless time $t^*$')\n",
    "        ax1.set_ylabel('Value')\n",
    "        ax1.set_title(title or f'Crack velocity & opening: {os.path.basename(file_path)}', fontsize=20, weight='bold')\n",
    "        ax1.legend(loc='upper right', fontsize='medium')\n",
    "        ax1.grid(True, linestyle='dotted')\n",
    "        plt.tight_layout()\n",
    "    except Exception as e:\n",
    "        print(f\"Error reading file {file_path}:\\n{e}\")"
   ]
  },
  {
   "cell_type": "code",
   "execution_count": null,
   "id": "10d51180-5aa0-4869-8a62-508b8a2c5f22",
   "metadata": {},
   "outputs": [],
   "source": [
    "file_path = pathf+\"1lay-test/output/XtZtvel_01.dat\" \n",
    "plot_xtzt_velocity(file_path=file_path,A0=0.009,delta_rho=300,eta=100,g=9.81,\n",
    "title=\"1-layer dyke propagation – SIM A8\")#-----modifica caso\n",
    "pathi = \"./fgs/1lay/case8/\"#-----------------salvatagiioooo\n",
    "plt.savefig(pathi+f'1l_veln_th_case8.pdf',dpi=300)"
   ]
  },
  {
   "cell_type": "markdown",
   "id": "cf61c5ec-a517-4d96-b711-99d47f01ff7e",
   "metadata": {},
   "source": [
    "## v vs fluid flow velocity"
   ]
  },
  {
   "cell_type": "code",
   "execution_count": null,
   "id": "6c1deef6-973f-4a53-9550-6ed2450034e2",
   "metadata": {},
   "outputs": [],
   "source": [
    "def compute_fluid_velocity(datapath, eta, A0, crack_length_km=15.0, n_steps=100):\n",
    "    \"\"\"\n",
    "    Cplot the fluid velocity f(s,t) from midpoint avg overpressure profiles.\n",
    "    Parameters:\n",
    "        datapath (Path or str): Directory containing overpressure_XXX_01.dat files.\n",
    "        fixed: XtZtvel_01.dat inside the directory read in datapath.\n",
    "        eta (float): Viscosity [Pa·s].\n",
    "        A0 (float): Crack opening area [m^2].\n",
    "        crack_length_km (float): Total crack length in km.\n",
    "        n_steps (int): Number of propagation steps (default same as iteration steps 100).\n",
    "    \"\"\"\n",
    "    datapath = Path(datapath)\n",
    "    L = crack_length_km * 1e3# km _> mtrs\n",
    "    s = np.linspace(0, L, n_steps)#crack length coordinates\n",
    "    P_avg = []\n",
    "    crack_vel = pd.read_csv(datapath / f\"XtZtvel_01.dat\", sep='\\s+', skiprows=1, header=None)\n",
    "    last = crack_vel.iloc[-1, 2]\n",
    "    for i in range(1, n_steps + 1):\n",
    "        file = datapath / f\"Overpressure_{i:03d}_01.dat\"\n",
    "        data = np.loadtxt(file)\n",
    "        p = data[:, 1]\n",
    "        P_avg.append(np.mean(p))#average no mid-point\n",
    "    P_avg = np.array(P_avg)\n",
    "    P_avg = P_avg * 1e9\n",
    "    dP_ds = np.gradient(P_avg, s,edge_order=2)\n",
    "    f_st = -(1 / (12 * eta)) * dP_ds * A0**3#Poiseuille flow in crack\n",
    "    plt.figure(figsize=(6, 4))\n",
    "    plt.plot(s / 1e3, f_st, label=r\"$f(s,t) = -\\frac{1}{12\\eta} \\frac{\\partial P_{\\nu}}{\\partial s} A_0^3$\", color=\"navy\", lw=2)\n",
    "    plt.axhline(y=last, color='#C75A20', linestyle='--', label = f\"$v_{{f}}$ = {last:.4f} m/s\")  \n",
    "    plt.xlabel(\"Crack length [km]\",weight='bold')\n",
    "    plt.ylabel(\"Fluid flow velocity [m/s]\",weight='bold')\n",
    "    plt.title(\"Fluid flux in laminar regime\",weight='bold')\n",
    "    plt.legend(loc='upper right', fontsize='small')\n",
    "    plt.tight_layout()\n",
    "    return s, f_st"
   ]
  },
  {
   "cell_type": "code",
   "execution_count": null,
   "id": "fc866c57-b5b7-4e03-813c-337e92cbdd29",
   "metadata": {},
   "outputs": [],
   "source": [
    "path = pathf+\"1lay-test/output/\" \n",
    "compute_fluid_velocity(path,eta=100,#Pa.s -----modifica caso\n",
    "A0=0.009,crack_length_km=7.0);\n",
    "pathi = \"./fgs/1lay/case8/\"#-----------------salvatagiioooo\n",
    "plt.savefig(pathi+f'flux_case8.pdf', dpi=300)"
   ]
  },
  {
   "cell_type": "markdown",
   "id": "07310614-b847-405b-8273-6a18cf88935e",
   "metadata": {},
   "source": [
    "## v vs depth"
   ]
  },
  {
   "cell_type": "code",
   "execution_count": null,
   "id": "eeaa0f47-11f9-4ac8-9eb6-a6583a5cc79b",
   "metadata": {},
   "outputs": [],
   "source": [
    "def plot_v_vs_z(file_path, title=None):\n",
    "    try:\n",
    "        data = np.loadtxt(file_path, usecols=(1, 2), skiprows=1)\n",
    "        z = data[:, 0] #in km\n",
    "        v = data[:, 1] #in km/s\n",
    "        sorted_idx = np.argsort(z)\n",
    "        z = z[sorted_idx]\n",
    "        v = v[sorted_idx]\n",
    "        fig, ax = plt.subplots(figsize=(5, 3))  # corrected line\n",
    "        ax.plot(v, z, \"k-\",  linewidth=2, label='Crack velocity [$m/s$]')\n",
    "        ax.set_xlabel(\"Crack tip velocity [mm/s]\",  weight='bold')\n",
    "        ax.set_ylabel(\"Crack tip depth [km]\", weight='bold')\n",
    "        ax.invert_yaxis()  \n",
    "        ax.grid(False)\n",
    "        ax.tick_params(labelsize=10)\n",
    "        ax.xaxis.set_major_locator(ticker.MaxNLocator(5))\n",
    "        ax.yaxis.set_major_locator(ticker.MaxNLocator(10))\n",
    "        ax.set_facecolor('white')\n",
    "        ax.set_title(title or f'Crack tip velocity vs depth: {os.path.basename(file_path)}')\n",
    "        ax.legend(loc='upper right', fontsize='medium')\n",
    "        plt.tight_layout()\n",
    "    except Exception as e:\n",
    "        print(f\"Error reading file {file_path}:\\n{e}\")"
   ]
  },
  {
   "cell_type": "code",
   "execution_count": null,
   "id": "50626782-3486-4294-8e2a-18e21c9f1ca9",
   "metadata": {},
   "outputs": [],
   "source": [
    "file = pathf+\"1lay-test/output/XtZtvel_01.dat\" \n",
    "plot_v_vs_z(file, title=r\"$v_i = 5.3 \\, mm/s$ - SIM A8\")#-----modifica caso\n",
    "pathi = \"./fgs/1lay/case8/\"#-----------------salvatagiioooo\n",
    "plt.savefig(pathi+f'1l_crckvelvdep_case8.pdf',dpi=300)"
   ]
  },
  {
   "cell_type": "markdown",
   "id": "554f6109-4787-4da6-adb6-4f5c833fa26e",
   "metadata": {},
   "source": [
    "## v vs viscosity"
   ]
  },
  {
   "cell_type": "code",
   "execution_count": null,
   "id": "9516292f-900b-4782-be2c-d180fe3555d6",
   "metadata": {},
   "outputs": [],
   "source": [
    "def plot_multiple_v_vs_z(files_with_viscosities, title=None):\n",
    "    \"\"\"\n",
    "    files_with_viscosities: list of (file_path, viscosity_value) tuples\n",
    "    \"\"\"\n",
    "    norm = mcolors.LogNorm(vmin=min(v for _, v in files_with_viscosities),\n",
    "                          vmax=max(v for _, v in files_with_viscosities))\n",
    "    cmap = cm.copper\n",
    "    sm = cm.ScalarMappable(cmap=cmap, norm=norm)\n",
    "    sm.set_array([])\n",
    "    fig, ax = plt.subplots(figsize=(5, 4))\n",
    "    for file_path, viscosity in files_with_viscosities:\n",
    "        try:\n",
    "            data = np.loadtxt(file_path, usecols=(1, 2), skiprows=1)\n",
    "            z = data[:, 0]  # depth in km\n",
    "            v = data[:, 1]  # velocity in mm/s\n",
    "            sorted_idx = np.argsort(z)\n",
    "            z = z[sorted_idx]\n",
    "            v = v[sorted_idx]\n",
    "            color = cmap(norm(viscosity))\n",
    "            ax.plot(v, z, '-', linewidth=2, color=color, label=f\"{viscosity:.1e} Pa·s\")\n",
    "        except Exception as e:\n",
    "            print(f\"Error reading file {file_path}:\\n{e}\")\n",
    "    ax.set_xlabel(\"Crack tip velocity [mm/s]\", weight='bold')\n",
    "    ax.set_ylabel(\"Crack tip depth [km]\", weight='bold')\n",
    "    # ax.set_xlim(-0.001, 0.58)\n",
    "    # # ax.set_ylim(7.5, 10)\n",
    "    ax.invert_yaxis()\n",
    "    ax.tick_params(labelsize=10)\n",
    "    ax.xaxis.set_major_locator(ticker.MaxNLocator(5))\n",
    "    ax.yaxis.set_major_locator(ticker.MaxNLocator(10))\n",
    "    ax.set_facecolor('white')\n",
    "    ax.set_title(title or 'Crack tip velocity vs depth', fontsize=15, weight='bold')\n",
    "    cbar = fig.colorbar(sm, ax=ax, orientation='vertical', pad=0.01)\n",
    "    cbar.set_label(r'$\\eta$ [Pa·s]', weight='bold')\n",
    "    return fig, ax"
   ]
  },
  {
   "cell_type": "code",
   "execution_count": null,
   "id": "a43723f4-9ab0-4337-9fd5-25e022fec0e6",
   "metadata": {},
   "outputs": [],
   "source": [
    "files_with_viscosities = [(pathf +\"1lay-case3/output/XtZtvel_01.dat\", 1e2),(pathf +\"1lay-case3.1/output/XtZtvel_01.dat\", 3.16e2),\n",
    "    (pathf +\"1lay-case3.2/output/XtZtvel_01.dat\", 4e2),(pathf +\"1lay-case3.3/output/XtZtvel_01.dat\", 4.25e2),\n",
    "(pathf +\"1lay-case3.4/output/XtZtvel_01.dat\", 2.5e2),\n",
    "(pathf +\"1lay-case3.5/output/XtZtvel_01.dat\", 5.0e2),(pathf +\"1lay-case3.6/output/XtZtvel_01.dat\", 7.5e2),]\n",
    "fig, ax = plot_multiple_v_vs_z(files_with_viscosities, title=\"Crack tip velocity profiles\")\n",
    "plt.savefig(\"crck_vel_prflzoomin.pdf\", dpi=300)\n",
    "plt.show()"
   ]
  },
  {
   "cell_type": "markdown",
   "id": "0f283b26-4ca4-40a4-b3ef-39839ca3bbfd",
   "metadata": {},
   "source": [
    "## energy figures U, W_r W_f"
   ]
  },
  {
   "cell_type": "code",
   "execution_count": null,
   "id": "c59c1a15-b946-4056-8fe4-52342fcee587",
   "metadata": {},
   "outputs": [],
   "source": [
    "def parse_runinfo_file(filename):\n",
    "    \"\"\"\n",
    "    get RUNINFO_01.dat from initial Etot, final U, W_r, and W_f values for each main ITERATION.\n",
    "    \"\"\"\n",
    "    iters = []\n",
    "    u_values = []\n",
    "    w_r_values = []\n",
    "    w_f_values = []\n",
    "    etot_value = None  \n",
    "    current_iter = None\n",
    "    temp_u = []\n",
    "    temp_w_r = []\n",
    "    temp_w_f = []\n",
    "    try:\n",
    "        with open(filename, 'r') as f:\n",
    "            for line in f:\n",
    "                line = line.strip()\n",
    "                if '=' in line:\n",
    "                    parts = line.split('=', 1)\n",
    "                    key = parts[0].strip()\n",
    "                    value_str = parts[1].strip()\n",
    "                    if key == 'Etot' and etot_value is None:\n",
    "                        try:\n",
    "                            etot_value_str = value_str.split()[0]\n",
    "                            if 'NaN' not in etot_value_str:\n",
    "                                etot_value = float(etot_value_str)\n",
    "                        except (ValueError, IndexError):\n",
    "                            pass\n",
    "                    elif key == 'ITER':\n",
    "                        if current_iter is not None:\n",
    "                            if temp_u:\n",
    "                                iters.append(current_iter)\n",
    "                                u_values.append(temp_u[-1])\n",
    "                                w_r_values.append(temp_w_r[-1])\n",
    "                                w_f_values.append(temp_w_f[-1])\n",
    "                            temp_u, temp_w_r, temp_w_f = [], [], []\n",
    "                        try:\n",
    "                            iter_parts = value_str.split('/')\n",
    "                            current_iter = int(iter_parts[0].strip())\n",
    "                        except (ValueError, IndexError):\n",
    "                            current_iter = None\n",
    "                    if current_iter is not None:\n",
    "                        try:\n",
    "                            value = float(value_str)\n",
    "                            if key == 'U':\n",
    "                                temp_u.append(value)\n",
    "                            elif key == 'W_r':\n",
    "                                temp_w_r.append(value)\n",
    "                            elif key == 'W_f':\n",
    "                                temp_w_f.append(value)\n",
    "                        except (ValueError, IndexError):\n",
    "                            continue\n",
    "            if current_iter is not None and temp_u:\n",
    "                iters.append(current_iter)\n",
    "                u_values.append(temp_u[-1])\n",
    "                w_r_values.append(temp_w_r[-1])\n",
    "                w_f_values.append(temp_w_f[-1])\n",
    "        print(f\"Initial Etot value: {etot_value}\")\n",
    "        print(f\"Final data lengths for U, W_r, and W_f: {len(u_values)}\")\n",
    "        return iters, u_values, w_r_values, w_f_values, etot_value\n",
    "    except FileNotFoundError:\n",
    "        print(f\"Error: The file '{filename}' was not found.\")\n",
    "        return None, None, None, None, None\n",
    "def plot_runinfo_data(iters, u_values, w_r_values, w_f_values, etot_value,title=None):\n",
    "    plt.figure(figsize=(7, 6))\n",
    "    plt.plot(iters, u_values, label='U-Gravit. energy')\n",
    "    plt.plot(iters, w_r_values, label=r'$W_r -\\,$ Strain energy')\n",
    "    plt.plot(iters, w_f_values, label=r'$W_f -\\,$ Fluid elastic energy')\n",
    "    if etot_value is not None:\n",
    "        plt.axhline(y=etot_value, color='r', linestyle='--', label=f'$E_t$ = {etot_value:.2f}')\n",
    "    plt.xlabel('Iteration', weight='bold')\n",
    "    plt.ylabel('Value', weight='bold')\n",
    "    plt.title(title or f'Energy contributes w.r.t. iteration number:{os.path.basename(filename)}', fontsize=20, weight='bold')\n",
    "    plt.legend(loc='best', fontsize='x-small')\n",
    "    plt.tight_layout()\n",
    "    pathi = \"./fgs/1lay/case1/\"#-----------------salvatagiioooo\n",
    "    plt.savefig(pathi+f'1l_energy_case1.pdf',dpi=300)\n",
    "    plt.show()\n",
    "iters, u_values, w_r_values, w_f_values, etot_value = parse_runinfo_file(pathf+'/1lay-case1/output/RUNINFO_01.dat')#-----modifica caso\n",
    "if iters and u_values and w_r_values and w_f_values:\n",
    "    plot_runinfo_data(iters, u_values, w_r_values, w_f_values, etot_value,\n",
    "    title= 'Energy contributes w.r.t. iteration number - case 1')\n",
    "else:\n",
    "    print(\"No data being plot.\")"
   ]
  },
  {
   "cell_type": "code",
   "execution_count": null,
   "id": "ae739c18-6b35-4dcf-a21a-be7852389cdd",
   "metadata": {},
   "outputs": [],
   "source": [
    "def plot_deltaE(filepath, ax=None, title=\"\"):\n",
    "    iterations = []\n",
    "    DeE_values = []\n",
    "    with open(filepath, 'r') as f:\n",
    "        for line in f:\n",
    "            if \"DeE\" in line:\n",
    "                match = re.search(r'DeE\\s+\\(iter=\\s*(\\d+)\\s*\\)\\s*=\\s*([-\\d.Ee+]+)', line)\n",
    "                if match:\n",
    "                    iter_num = int(match.group(1))\n",
    "                    DeE_val = float(match.group(2))\n",
    "                    iterations.append(iter_num)\n",
    "                    DeE_values.append(DeE_val)\n",
    "    if ax is None:\n",
    "        fig, ax = plt.subplots()\n",
    "    ax.plot(iterations, DeE_values, color='black', lw=1,marker='^',ms=3, label=\"DeE per iteration\")\n",
    "    ax.set_title(title)\n",
    "    ax.legend(loc='best', fontsize='x-small')\n",
    "    ax.set_xlabel(\"Iteration\",weight='bold')\n",
    "    ax.set_ylabel(r\"$\\Delta E$ [MPa $\\cdot$m]\", weight='bold')\n",
    "fig, axes = plt.subplots(3, 2, figsize=(10, 8), sharex=True)\n",
    "axes = axes.flatten()#-----modifica caso\n",
    "paths = [pathf + '/1lay-case1/output/RUNINFO_01.dat',pathf + '/1lay-case2/output/RUNINFO_01.dat',\n",
    "    pathf + '/1lay-case3/output/RUNINFO_01.dat',pathf + '/1lay-case4/output/RUNINFO_01.dat',\n",
    "    pathf + '/1lay-case5/output/RUNINFO_01.dat',pathf + '/1lay-case6/output/RUNINFO_01.dat']\n",
    "titles = [r\"SIMA1: $E_f =20 MPa \\cdot m$\", r\"SIMA3: $E_f =14 MPa \\cdot m$\",\n",
    "          r\"SIMA3.5: $E_f =16 MPa \\cdot m$\",r\"SIMA4: $E_f =11 MPa \\cdot m$\",\n",
    "          r\"SIMA6: $E_f =12 MPa \\cdot m$\", r\"SIMA8: $E_f =4.6 MPa \\cdot m$\"]\n",
    "for i in range(6):\n",
    "    plot_deltaE(paths[i], ax=axes[i], title=titles[i])\n",
    "plt.tight_layout()\n",
    "plt.savefig(f'1l_enrgvar_case1.pdf',dpi=300)\n",
    "plt.show()"
   ]
  },
  {
   "cell_type": "markdown",
   "id": "96c75864-5609-41b7-bb76-9992000f087f",
   "metadata": {},
   "source": [
    "## multiple dykes"
   ]
  },
  {
   "cell_type": "code",
   "execution_count": null,
   "id": "9fb34f12-3cb3-4a67-835d-379a08e39d15",
   "metadata": {},
   "outputs": [],
   "source": [
    "def load_fortran_float_file(filename):\n",
    "    with open(filename, 'r') as f:\n",
    "        lines = [line.replace('D', 'E').replace('d', 'E') for line in f]\n",
    "    return np.loadtxt(StringIO(''.join(lines)))\n",
    "def plot_deltas_multiple_dykes(path=\".\", dyke_nums=None, filename_prefix=\"XtZtDELTA_\"):\n",
    "    \"\"\"\n",
    "    Plots DELTA1, DELTA2, DELTA3 over iterations for multiple dyke numbers.\n",
    "\n",
    "    Parameters:\n",
    "        path (str): Directory containing XtZtDELTA_XX.dat files\n",
    "        dyke_nums (list): List of dyke numbers (e.g., [1, 2, 3])\n",
    "        filename_prefix (str): Filename prefix (default: XtZtDELTA_)\n",
    "    \"\"\"\n",
    "    if dyke_nums is None:\n",
    "        dyke_nums = [1]  #single dyke\n",
    "    colors = plt.cm.tab10.colors  \n",
    "    fig, axs = plt.subplots(3, 1, figsize=(12, 10), sharex=True, constrained_layout=True)\n",
    "    labels = ['DELTA1', 'DELTA2', 'DELTA3']\n",
    "    for i_dyke, dyke in enumerate(dyke_nums):\n",
    "        filename = os.path.join(path, f\"{filename_prefix}{dyke:02d}.dat\")\n",
    "        try:\n",
    "            data = load_fortran_float_file(filename)\n",
    "            iterations = np.arange(1, data.shape[0] + 1)\n",
    "            delta1, delta2, delta3 = data[:, 7], data[:, 8], data[:, 9]\n",
    "            axs[0].plot(iterations, delta1, label=f'Dyke {dyke:02d}', color=colors[i_dyke % len(colors)])\n",
    "            axs[1].plot(iterations, delta2, label=f'Dyke {dyke:02d}', color=colors[i_dyke % len(colors)])\n",
    "            axs[2].plot(iterations, delta3, label=f'Dyke {dyke:02d}', color=colors[i_dyke % len(colors)])\n",
    "        except Exception as e:\n",
    "            print(f\"Could not read {filename}: {e}\")\n",
    "    for i, ax in enumerate(axs):\n",
    "        ax.set_ylabel(labels[i])\n",
    "        ax.grid(True)\n",
    "        ax.legend()\n",
    "        if i == 2:\n",
    "            ax.set_xlabel(\"Iteration\")\n",
    "    plt.suptitle(\"DELTA parameters func. iteration for n dykes\", fontsize=16)\n",
    "    plt.show()"
   ]
  },
  {
   "cell_type": "code",
   "execution_count": null,
   "id": "dcecd996-e72f-46e2-89df-fd30f4cfd509",
   "metadata": {},
   "outputs": [],
   "source": [
    "path_f=\"1lay-case7/output/\"\n",
    "plot_deltas_multiple_dykes(path=path_f, dyke_nums=[1, 2, 3, 4, 5])"
   ]
  },
  {
   "cell_type": "markdown",
   "id": "279e18ab-0695-4fd4-8adc-b4e44fe4a3b4",
   "metadata": {},
   "source": [
    "# Double layer"
   ]
  },
  {
   "cell_type": "markdown",
   "id": "6ac9a4d0-b8e2-4c65-938b-bc4af2bd0865",
   "metadata": {},
   "source": [
    "## crack shapes evlt"
   ]
  },
  {
   "cell_type": "code",
   "execution_count": null,
   "id": "bedf89d6-81e6-4ffa-bb8c-533ef52a2598",
   "metadata": {},
   "outputs": [],
   "source": [
    "plot_crack_shapes_subplots(pathf+\"2lay-case3/output/\", iterations=[0,99, 199, 299, 301], scale=2.5, vert_exag=1.0)#-----modifica caso\n",
    "pathi = \"./fgs/2lay/case9/\"#-----------------salvatagiioooo\n",
    "#plt.savefig(pathi+f'2l_crck_shp_case9.pdf',dpi=300)#double layer scl_factor=100"
   ]
  },
  {
   "cell_type": "code",
   "execution_count": null,
   "id": "172ad7d5-6659-4355-9094-56244d5b39ff",
   "metadata": {},
   "outputs": [],
   "source": [
    "plot_crack_shapes_subplots(pathf+\"2lay-test/output/\", iterations=[0,99, 199, 299, 301], scale=2.5, vert_exag=1.0)#-----modifica caso\n",
    "pathi = \"./fgs/2lay/case9/\"#-----------------salvatagiioooo\n",
    "#plt.savefig(pathi+f'2l_crck_shp_case9.pdf',dpi=300)#double layer scl_factor=100"
   ]
  },
  {
   "cell_type": "code",
   "execution_count": null,
   "id": "6e16e508-c79b-4024-85ca-80ea031b6836",
   "metadata": {},
   "outputs": [],
   "source": [
    "plot_crack_shapes_overlay(path=pathf+\"2lay-test/output/\", base_filename=\"crack_shape_r01_i\",\n",
    "iterations=[0, 99, 199,299,301], scale=2.5, vert_exag=1.0)#-----modifica caso\n",
    "pathi = \"./fgs/2lay/case9/\"#-----------------salvatagiioooo\n",
    "plt.savefig(pathi+f'2l_crck_ovrly_case9.pdf',dpi=300)"
   ]
  },
  {
   "cell_type": "markdown",
   "id": "139ba94b-e23f-444e-941d-0711e1821ec4",
   "metadata": {},
   "source": [
    "## dyke opens evolt"
   ]
  },
  {
   "cell_type": "code",
   "execution_count": null,
   "id": "6dd8431d-aa64-4fbb-bf4b-77f42ae580d0",
   "metadata": {},
   "outputs": [],
   "source": [
    "plot_opening_all_in_one(pathf+\"2lay-test/output/\",\n",
    "iterations=range(1, 100,5), dyke_num=1, title=\"2-layer dyke opening evolution – SIM B9\")#-----modifica caso\n",
    "pathi = \"./fgs/2lay/case9/\"#-----------------salvatagiioooo\n",
    "plt.savefig(pathi+f'2l_open_case9.pdf',dpi=300)"
   ]
  },
  {
   "cell_type": "markdown",
   "id": "18899f33-9b0b-43e1-a06b-c368944f6c76",
   "metadata": {},
   "source": [
    "## tip veloc - max opening X"
   ]
  },
  {
   "cell_type": "code",
   "execution_count": null,
   "id": "a67d4504-8b17-435f-b789-25e637d676cd",
   "metadata": {},
   "outputs": [],
   "source": [
    "///"
   ]
  },
  {
   "cell_type": "markdown",
   "id": "6dee6e53-31a4-43dc-828a-4b2388fe1ab5",
   "metadata": {},
   "source": [
    "## crack tip coordinates X"
   ]
  },
  {
   "cell_type": "code",
   "execution_count": null,
   "id": "f06e1af7-ca36-4a8a-b290-854163e0fbd6",
   "metadata": {},
   "outputs": [],
   "source": [
    "///"
   ]
  },
  {
   "cell_type": "markdown",
   "id": "bf856ee0-0cda-4f61-908d-4e614653196f",
   "metadata": {},
   "source": [
    "## velocity vs dimensionless specncerturcotte1990"
   ]
  },
  {
   "cell_type": "code",
   "execution_count": null,
   "id": "00f20ecc-726d-4f79-b794-dc8e3170a476",
   "metadata": {},
   "outputs": [],
   "source": [
    "plot_xtzt_velocity(pathf+\"2lay-case4/output/XtZtvel_01.dat\",A0=0.009,delta_rho=500,eta=20#Pa.s -----modifica caso\n",
    ",g=9.81,title=\"2-layer dyke propagation – SIM B4\")\n",
    "pathi = \"./fgs/2lay/case4/\"#-----------------salvatagiioooo\n",
    "plt.savefig(pathi+f'2l_veln_th_case4.pdf',dpi=300)"
   ]
  },
  {
   "cell_type": "markdown",
   "id": "3bd4e6c3-c9e1-400e-91db-dedc37e0cda9",
   "metadata": {},
   "source": [
    "## v vs depth"
   ]
  },
  {
   "cell_type": "code",
   "execution_count": null,
   "id": "e88bffb1-c46a-4008-870e-d04c88433086",
   "metadata": {},
   "outputs": [],
   "source": [
    "plot_v_vs_z(pathf+\"2lay-test/output/XtZtvel_01.dat\" , title=r\"$v_i = 0.8 \\, mm/s$ - SIM B9\")#-----modifica caso\n",
    "pathi = \"./fgs/2lay/case9/\"#-----------------salvatagiioooo\n",
    "plt.savefig(pathi+f'2l_crckvelvdep_case9.pdf',dpi=300)"
   ]
  },
  {
   "cell_type": "markdown",
   "id": "4d32385f-ee8d-43d1-a945-5cbf0d57ce56",
   "metadata": {},
   "source": [
    "## v vs viscosity"
   ]
  },
  {
   "cell_type": "code",
   "execution_count": null,
   "id": "1b23f5c9-408d-4785-a41e-11abba1786da",
   "metadata": {},
   "outputs": [],
   "source": [
    "files_with_viscosities = [(pathf +\"2lay-case1/output/XtZtvel_01.dat\", 500),(pathf +\"2lay-case2/output/XtZtvel_01.dat\", 20),\n",
    "(pathf +\"2lay-case3/output/XtZtvel_01.dat\", 20),(pathf +\"2lay-case4/output/XtZtvel_01.dat\", 20),\n",
    "(pathf +\"2lay-case5/output/XtZtvel_01.dat\", 95),(pathf +\"2lay-case6/output/XtZtvel_01.dat\", 10),(pathf +\"2lay-case8/output/XtZtvel_01.dat\", 5),\n",
    "(pathf +\"2lay-test/output/XtZtvel_01.dat\", 100)]\n",
    "fig, ax = plot_multiple_v_vs_z(files_with_viscosities, title=\"Crack tip velocity profiles - B1:B9\")\n",
    "plt.savefig(\"2lcrck_vel_prfl.pdf\", dpi=300)\n",
    "plt.show()"
   ]
  },
  {
   "cell_type": "markdown",
   "id": "4fead816-b8d9-43a0-bb71-e0418f0b9b63",
   "metadata": {},
   "source": [
    "## energy tend U, W_r W_f DeE"
   ]
  },
  {
   "cell_type": "code",
   "execution_count": null,
   "id": "ee706943-aa79-4e6e-9f43-e23ba3eb3017",
   "metadata": {},
   "outputs": [],
   "source": [
    "def parse_runinfo_file(filename):\n",
    "    \"\"\"\n",
    "    get RUNINFO_01.dat file to extract initial Etot and\n",
    "    the final U, W_r, and W_f values for each main ITERATION.\n",
    "    \"\"\"\n",
    "    iters = []\n",
    "    u_values = []\n",
    "    w_r_values = []\n",
    "    w_f_values = []\n",
    "    etot_value = None  \n",
    "    current_iter = None\n",
    "    temp_u = []\n",
    "    temp_w_r = []\n",
    "    temp_w_f = []\n",
    "    try:\n",
    "        with open(filename, 'r') as f:\n",
    "            for line in f:\n",
    "                line = line.strip()\n",
    "                if '=' in line:\n",
    "                    parts = line.split('=', 1)\n",
    "                    key = parts[0].strip()\n",
    "                    value_str = parts[1].strip()\n",
    "                    if key == 'Etot' and etot_value is None:\n",
    "                        try:\n",
    "                            etot_value_str = value_str.split()[0]\n",
    "                            if 'NaN' not in etot_value_str:\n",
    "                                etot_value = float(etot_value_str)\n",
    "                        except (ValueError, IndexError):\n",
    "                            pass\n",
    "                    elif key == 'ITER':\n",
    "                        if current_iter is not None:\n",
    "                            if temp_u:\n",
    "                                iters.append(current_iter)\n",
    "                                u_values.append(temp_u[-1])\n",
    "                                w_r_values.append(temp_w_r[-1])\n",
    "                                w_f_values.append(temp_w_f[-1])\n",
    "                            temp_u, temp_w_r, temp_w_f = [], [], []\n",
    "                        try:\n",
    "                            iter_parts = value_str.split('/')\n",
    "                            current_iter = int(iter_parts[0].strip())\n",
    "                        except (ValueError, IndexError):\n",
    "                            current_iter = None\n",
    "                    if current_iter is not None:\n",
    "                        try:\n",
    "                            value = float(value_str)\n",
    "                            if key == 'U':\n",
    "                                temp_u.append(value)\n",
    "                            elif key == 'W_r':\n",
    "                                temp_w_r.append(value)\n",
    "                            elif key == 'W_f':\n",
    "                                temp_w_f.append(value)\n",
    "                        except (ValueError, IndexError):\n",
    "                            continue\n",
    "            if current_iter is not None and temp_u:\n",
    "                iters.append(current_iter)\n",
    "                u_values.append(temp_u[-1])\n",
    "                w_r_values.append(temp_w_r[-1])\n",
    "                w_f_values.append(temp_w_f[-1])\n",
    "        print(f\"Initial Etot value: {etot_value}\")\n",
    "        print(f\"Final data lengths for U, W_r, and W_f: {len(u_values)}\")\n",
    "        return iters, u_values, w_r_values, w_f_values, etot_value\n",
    "    except FileNotFoundError:\n",
    "        print(f\"Error: The file '{filename}' was not found.\")\n",
    "        return None, None, None, None, None\n",
    "def plot_runinfo_data(iters, u_values, w_r_values, w_f_values, etot_value,title=None):\n",
    "    plt.figure(figsize=(7, 6))\n",
    "    plt.plot(iters, u_values, label='U-Gravit. energy')\n",
    "    plt.plot(iters, w_r_values, label=r'$W_r -\\,$ Strain energy')\n",
    "    plt.plot(iters, w_f_values, label=r'$W_f -\\,$ Fluid elastic energy')\n",
    "    if etot_value is not None:\n",
    "        plt.axhline(y=etot_value, color='r', linestyle='--', label=f'$E_t$ = {etot_value:.2f}')\n",
    "    plt.xlabel('Iteration', weight='bold')\n",
    "    plt.ylabel('Value', weight='bold')\n",
    "    plt.title(title or f'Energy contributes w.r.t. iteration number:{os.path.basename(filename)}', fontsize=20, weight='bold')\n",
    "    plt.legend(loc='best', fontsize='x-small')\n",
    "    plt.tight_layout()\n",
    "    pathi = \"./fgs/2lay/case1/\"#-----------------salvatagiioooo\n",
    "    plt.savefig(pathi+f'2l_energy_case1.pdf',dpi=300)\n",
    "iters, u_values, w_r_values, w_f_values, etot_value = parse_runinfo_file(pathf+'/2lay-case1/output/RUNINFO_01.dat')#-----modifica caso\n",
    "if iters and u_values and w_r_values and w_f_values:\n",
    "    plot_runinfo_data(iters, u_values, w_r_values, w_f_values, etot_value,\n",
    "    title= 'Energy contributes w.r.t. iteration number - case 1')\n",
    "else:\n",
    "    print(\"No data being plot.\")"
   ]
  },
  {
   "cell_type": "code",
   "execution_count": null,
   "id": "30434bd3-db06-429d-925a-8b22bd24200d",
   "metadata": {},
   "outputs": [],
   "source": [
    "fig, axes = plt.subplots(3, 2, figsize=(10, 8), sharex=True)\n",
    "axes = axes.flatten()#-----modifica caso\n",
    "paths = [pathf + '/2lay-case3/output/RUNINFO_01.dat',pathf + '/2lay-case4/output/RUNINFO_01.dat',\n",
    "    pathf + '/2lay-case5/output/RUNINFO_01.dat',pathf + '/2lay-case6/output/RUNINFO_01.dat',\n",
    "    pathf + '/2lay-case1/output/RUNINFO_01.dat',pathf + '/2lay-test/output/RUNINFO_01.dat']\n",
    "titles = [r\"SIMB3: $\\Delta K_c$ =270 MPa $\\cdot \\sqrt{m}$\", r\"SIMB4: $\\Delta K_c$ =299 MPa $\\cdot \\sqrt{m}$\",\n",
    "          r\"SIMB5:$\\Delta K_c$ =270 MPa $\\cdot \\sqrt{m}$\",r\"SIMB6: $\\Delta K_c$ =302 MPa $\\cdot \\sqrt{m}$\",\n",
    "          r\"SIMB1: $\\Delta K_c$ =302 MPa $\\cdot \\sqrt{m}$\", r\"SIMB9: $\\Delta K_c$ =270 MPa $\\cdot \\sqrt{m}$\"]\n",
    "for i in range(6):\n",
    "    plot_deltaE(paths[i], ax=axes[i], title=titles[i])\n",
    "plt.tight_layout()\n",
    "plt.savefig(f'2l_enrgvar_case1.pdf',dpi=300)"
   ]
  },
  {
   "cell_type": "markdown",
   "id": "41c6a087-00ef-4e07-86eb-d35082f3ec1d",
   "metadata": {
    "jp-MarkdownHeadingCollapsed": true
   },
   "source": [
    "# eon, version history 08/09/2025"
   ]
  },
  {
   "cell_type": "code",
   "execution_count": null,
   "id": "8e76d900-13c9-4571-88bf-7925d539069a",
   "metadata": {},
   "outputs": [],
   "source": [
    "!python --version\n",
    "!pip show os re glob pandas numpy matplotlib "
   ]
  },
  {
   "cell_type": "code",
   "execution_count": null,
   "id": "620aa767-f5ea-4fec-8606-cb3bda8a2caa",
   "metadata": {},
   "outputs": [],
   "source": []
  }
 ],
 "metadata": {
  "kernelspec": {
   "display_name": "Python 3 (ipykernel)",
   "language": "python",
   "name": "python3"
  },
  "language_info": {
   "codemirror_mode": {
    "name": "ipython",
    "version": 3
   },
   "file_extension": ".py",
   "mimetype": "text/x-python",
   "name": "python",
   "nbconvert_exporter": "python",
   "pygments_lexer": "ipython3",
   "version": "3.11.2"
  }
 },
 "nbformat": 4,
 "nbformat_minor": 5
}
